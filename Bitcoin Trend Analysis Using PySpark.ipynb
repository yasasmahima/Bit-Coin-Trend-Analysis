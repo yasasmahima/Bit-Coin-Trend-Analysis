{
 "cells": [
  {
   "cell_type": "code",
   "execution_count": 1,
   "metadata": {},
   "outputs": [],
   "source": [
    "# Pyspark libraries\n",
    "from pyspark import SparkConf, SparkContext\n",
    "from pyspark.sql import SparkSession, SQLContext\n",
    "from pyspark.sql.types import *\n",
    "from pyspark.sql.functions import *\n",
    "\n",
    "from pyspark.ml.linalg import Vectors\n",
    "from pyspark.ml.feature import StringIndexer\n",
    "\n",
    "from pyspark.ml.regression import LinearRegression\n",
    "from pyspark.mllib.evaluation import RegressionMetrics\n",
    "from pyspark.ml.linalg import Vectors\n",
    "from pyspark.ml.feature import StringIndexer\n",
    "from pyspark.ml.stat import Correlation\n",
    "from pyspark.ml.feature import MinMaxScaler\n",
    "from pyspark.ml.feature import VectorAssembler\n",
    "from pyspark.ml import Pipeline\n",
    "from pyspark.ml.tuning import ParamGridBuilder, CrossValidator, CrossValidatorModel\n",
    "from pyspark.ml.feature import VectorAssembler, StandardScaler\n",
    "from pyspark.ml.evaluation import RegressionEvaluator\n",
    "\n",
    "import numpy as np\n",
    "import pandas as pd\n",
    "\n",
    "# Data Visualization Libraries\n",
    "import seaborn as sns\n",
    "import matplotlib.pyplot as plt\n",
    "\n",
    "from IPython.core.interactiveshell import InteractiveShell\n",
    "InteractiveShell.ast_node_interactivity = \"all\"\n",
    "\n",
    "pd.set_option('display.max_columns', 200)\n",
    "pd.set_option('display.max_colwidth', 400)\n",
    "\n",
    "from matplotlib import rcParams\n",
    "sns.set(context='notebook', style='darkgrid', rc={'figure.figsize': (20,6)})\n",
    "rcParams['figure.figsize'] = 18,4\n",
    "\n",
    "%matplotlib inline\n",
    "%config InlineBackend.figure_format = 'retina'"
   ]
  },
  {
   "cell_type": "code",
   "execution_count": 2,
   "metadata": {},
   "outputs": [],
   "source": [
    "# Spark Session \n",
    "sc = SparkContext(appName = \"Bitcoin Trend Analysis\")\n",
    "spark = SparkSession.Builder().getOrCreate()\n",
    "\n",
    "# SQL Context\n",
    "sqlContext = SQLContext(sc)"
   ]
  },
  {
   "cell_type": "code",
   "execution_count": 3,
   "metadata": {},
   "outputs": [],
   "source": [
    "# Load csv file to spark dataframe\n",
    "df= sqlContext.read.csv('D:/Projects/BitCoin-Trend Analysis/DataSets/bitstampUSD_1-min_data_2012-01-01_to_2020-04-22.csv', header='true', inferSchema='true')"
   ]
  },
  {
   "cell_type": "code",
   "execution_count": null,
   "metadata": {},
   "outputs": [],
   "source": [
    "df.describe().show()"
   ]
  },
  {
   "cell_type": "code",
   "execution_count": null,
   "metadata": {},
   "outputs": [],
   "source": [
    "df.printSchema()"
   ]
  },
  {
   "cell_type": "code",
   "execution_count": null,
   "metadata": {},
   "outputs": [],
   "source": [
    "df.registerTempTable(\"bitCoinData\")"
   ]
  },
  {
   "cell_type": "code",
   "execution_count": null,
   "metadata": {},
   "outputs": [],
   "source": [
    "# Change \n",
    "bitCoinData = sqlContext.sql(\"select *,from_unixtime(Timestamp) as `dateTime` from bitCoinData\")"
   ]
  },
  {
   "cell_type": "code",
   "execution_count": null,
   "metadata": {},
   "outputs": [],
   "source": [
    "# Remove all Null\n",
    "bitCoinData = bitCoinData.na.drop()"
   ]
  },
  {
   "cell_type": "code",
   "execution_count": null,
   "metadata": {},
   "outputs": [],
   "source": [
    "bitCoinData.count()"
   ]
  },
  {
   "cell_type": "code",
   "execution_count": null,
   "metadata": {},
   "outputs": [],
   "source": [
    "bitCoinData.printSchema()"
   ]
  },
  {
   "cell_type": "code",
   "execution_count": null,
   "metadata": {},
   "outputs": [],
   "source": [
    "bitCoinData = bitCoinData.withColumnRenamed(\"Volume_(BTC)\", \"VolBTC\").withColumnRenamed(\"Volume_(Currency)\", \"VolCurrency\")"
   ]
  },
  {
   "cell_type": "code",
   "execution_count": null,
   "metadata": {},
   "outputs": [],
   "source": [
    "dateTimeDF = bitCoinData"
   ]
  },
  {
   "cell_type": "code",
   "execution_count": null,
   "metadata": {},
   "outputs": [],
   "source": [
    "# Create two new columns for date and time by splitting Time dateTime column\n",
    "splitDF = dateTimeDF.withColumn(\"date\",split(col(\"dateTime\"),\" \").getItem(0)).withColumn(\"time\",split(col(\"dateTime\"),\" \").getItem(1))\n",
    "\n",
    "# Set onother column for Hour \n",
    "splitDF = splitDF.withColumn(\"hour\",split(col(\"time\"),\":\").getItem(0))"
   ]
  },
  {
   "cell_type": "code",
   "execution_count": null,
   "metadata": {},
   "outputs": [],
   "source": [
    "splitDF.printSchema()"
   ]
  },
  {
   "cell_type": "code",
   "execution_count": null,
   "metadata": {},
   "outputs": [],
   "source": [
    "splitDF.limit(10).show()"
   ]
  },
  {
   "cell_type": "code",
   "execution_count": null,
   "metadata": {},
   "outputs": [],
   "source": [
    "#Add new Column for get the day of the week by the date\n",
    "splitDF= splitDF.withColumn(\"date\",splitDF[\"date\"].cast(DateType())).withColumn(\"hour\",splitDF[\"hour\"].cast(DoubleType())).withColumn(\"dateTime\",splitDF[\"dateTime\"].cast(DateType()))\n",
    "splitDF=splitDF.withColumn('day_of_week',dayofweek(splitDF.date))\n",
    "\n",
    "#SPLit Year\n",
    "splitDF = splitDF.withColumn(\"year\",split(col(\"date\"),\"-\").getItem(0))"
   ]
  },
  {
   "cell_type": "code",
   "execution_count": null,
   "metadata": {},
   "outputs": [],
   "source": [
    "splitDF.limit(10).show()"
   ]
  },
  {
   "cell_type": "code",
   "execution_count": null,
   "metadata": {},
   "outputs": [],
   "source": [
    "# Covert spark dataframe to pandas dataframe\n",
    "pandasDF = splitDF.toPandas()"
   ]
  },
  {
   "cell_type": "code",
   "execution_count": null,
   "metadata": {},
   "outputs": [],
   "source": [
    "# Visualize Correaltions \n",
    "\n",
    "correlationMatrix=pandasDF.corr()\n",
    "f,ax = plt.subplots(figsize=(15, 15))\n",
    "sns.heatmap(correlationMatrix,annot=True,linewidths=.5, fmt= '.1f',ax=ax)"
   ]
  },
  {
   "cell_type": "code",
   "execution_count": null,
   "metadata": {},
   "outputs": [],
   "source": [
    "# Scatter Plot\n",
    "pandasDF.plot(kind='scatter', x='VolBTC', y='VolCurrency',alpha = 0.5)\n",
    "plt.xlabel('BITCOIN Volume')            \n",
    "plt.ylabel('Currency Volume')\n",
    "plt.title('BITCOIN AND Currency Scatter Plot') \n",
    "plt.show()"
   ]
  },
  {
   "cell_type": "code",
   "execution_count": null,
   "metadata": {},
   "outputs": [],
   "source": [
    "plt.figure(figsize=(20,8))\n",
    "pandasDF.Open.plot(kind='line', color='b', label='Open', alpha=0.5, linewidth=5, grid=True, linestyle=':')\n",
    "pandasDF.High.plot(color='r', label='High', linewidth=1, alpha=0.5, grid=True, linestyle='-.')\n",
    "plt.legend(loc='upper right') \n",
    "plt.xlabel('Time')\n",
    "plt.ylabel('price at the start of the time window')\n",
    "plt.title('Distribution of High and Low Price')\n",
    "plt.show()"
   ]
  },
  {
   "cell_type": "code",
   "execution_count": null,
   "metadata": {},
   "outputs": [],
   "source": [
    "#plot of Open price\n",
    "pandasDF.Open.plot(kind='hist', bins=50)"
   ]
  },
  {
   "cell_type": "code",
   "execution_count": null,
   "metadata": {},
   "outputs": [],
   "source": [
    "#plot of Close price\n",
    "pandasDF.Close.plot(kind='hist', bins=50)"
   ]
  },
  {
   "cell_type": "code",
   "execution_count": null,
   "metadata": {},
   "outputs": [],
   "source": [
    "#Extract values for lists\n",
    "hour=pandasDF[\"hour\"].values.tolist()\n",
    "weighted_price=pandasDF[\"Weighted_Price\"].values.tolist()\n",
    "volume_BTC=pandasDF[\"VolBTC\"].values.tolist()\n",
    "date_of_week=pandasDF[\"day_of_week\"].values.tolist()\n",
    "year=pandasDF[\"year\"].values.tolist()"
   ]
  },
  {
   "cell_type": "code",
   "execution_count": null,
   "metadata": {},
   "outputs": [],
   "source": [
    "#Plot of Weighted_price per hour \n",
    "plt.plot(hour,weighted_price , 'yo')\n",
    "plt.xlabel('hour')            \n",
    "plt.ylabel('Weighted_Price')\n",
    "plt.title('Price by Hour') \n",
    "plt.show()"
   ]
  },
  {
   "cell_type": "code",
   "execution_count": null,
   "metadata": {},
   "outputs": [],
   "source": [
    "# Weighted_price per week \n",
    "plt.plot(date_of_week, weighted_price, 'ro')\n",
    "plt.xlabel('day_of_week')            \n",
    "plt.ylabel('Weighted_Price')\n",
    "plt.title('Price By Week') \n",
    "plt.show()"
   ]
  },
  {
   "cell_type": "code",
   "execution_count": null,
   "metadata": {},
   "outputs": [],
   "source": [
    "# VolBTC per hour change \n",
    "plt.plot(hour, volume_BTC, 'b*')\n",
    "plt.xlabel('hour')            \n",
    "plt.ylabel('VolBTC')\n",
    "plt.title('Volume by Hour of day') \n",
    "plt.show()"
   ]
  },
  {
   "cell_type": "code",
   "execution_count": null,
   "metadata": {},
   "outputs": [],
   "source": [
    "# VolBTC per day_of_Week \n",
    "plt.plot(date_of_week,volume_BTC , 'c*')\n",
    "plt.xlabel('day_of_week')            \n",
    "plt.ylabel('VolBTC')\n",
    "plt.title('Volume By Week') \n",
    "plt.show()"
   ]
  },
  {
   "cell_type": "code",
   "execution_count": null,
   "metadata": {},
   "outputs": [],
   "source": [
    "#Volume_BTC per year change \n",
    "plt.plot(year,volume_BTC , 'kD')\n",
    "plt.xlabel('year')            \n",
    "plt.ylabel('volume_BTC')\n",
    "plt.title('volume_BTC plotted in yearly basis') \n",
    "plt.show()"
   ]
  },
  {
   "cell_type": "code",
   "execution_count": null,
   "metadata": {},
   "outputs": [],
   "source": [
    "#Weighted Price per year change \n",
    "plt.plot(year,weighted_price , 'mD')\n",
    "plt.xlabel('year')            \n",
    "plt.ylabel('Weighted_Price')\n",
    "plt.title('Weighted Price in yearly basis') \n",
    "plt.show()"
   ]
  },
  {
   "cell_type": "code",
   "execution_count": null,
   "metadata": {},
   "outputs": [],
   "source": []
  }
 ],
 "metadata": {
  "kernelspec": {
   "display_name": "Python 3",
   "language": "python",
   "name": "python3"
  },
  "language_info": {
   "codemirror_mode": {
    "name": "ipython",
    "version": 3
   },
   "file_extension": ".py",
   "mimetype": "text/x-python",
   "name": "python",
   "nbconvert_exporter": "python",
   "pygments_lexer": "ipython3",
   "version": "3.6.10"
  }
 },
 "nbformat": 4,
 "nbformat_minor": 4
}
